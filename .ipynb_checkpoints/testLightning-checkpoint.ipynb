{
 "cells": [
  {
   "cell_type": "code",
   "execution_count": 56,
   "metadata": {},
   "outputs": [
    {
     "name": "stderr",
     "output_type": "stream",
     "text": [
      "Trainer already configured with model summary callbacks: [<class 'pytorch_lightning.callbacks.rich_model_summary.RichModelSummary'>]. Skipping setting a default `ModelSummary` callback.\n",
      "GPU available: True, used: True\n",
      "TPU available: False, using: 0 TPU cores\n",
      "IPU available: False, using: 0 IPUs\n"
     ]
    }
   ],
   "source": [
    "import os\n",
    "from dataclasses import dataclass\n",
    "from logging import getLogger as get_logger\n",
    "from typing import Dict, List, Optional, Type\n",
    "import logging\n",
    "from simple_parsing.helpers.serialization.serializable import Serializable\n",
    "from simple_parsing.helpers import field\n",
    "import wandb\n",
    "from pytorch_lightning.loggers import LightningLoggerBase\n",
    "from pl_bolts.datamodules.vision_datamodule import VisionDataModule\n",
    "import hydra\n",
    "from hydra.core.config_store import ConfigStore\n",
    "from omegaconf import DictConfig, OmegaConf\n",
    "from pytorch_lightning import Callback, LightningModule, Trainer, seed_everything\n",
    "\n",
    "from target_prop.config import Config\n",
    "from target_prop.datasets.dataset_config import DatasetConfig\n",
    "from target_prop.models import Model, DTP, VanillaDTP, TargetProp, ParallelDTP, BaselineModel\n",
    "from target_prop.models.model import Model\n",
    "from target_prop.networks import  Network, ResNet18, ResNet34, SimpleVGG, LeNet, ViT\n",
    "from target_prop.networks.network import Network\n",
    "from target_prop.scheduler_config import CosineAnnealingLRConfig, StepLRConfig\n",
    "from target_prop.utils.hydra_utils import get_outer_class\n",
    "\n",
    "class Options(Serializable):\n",
    "    \"\"\" All the options required for a run. This dataclass acts as a schema for the Hydra configs.\n",
    "    \n",
    "    For more info, see https://hydra.cc/docs/tutorials/structured_config/schema/\n",
    "    \"\"\"\n",
    "\n",
    "    # Configuration for the dataset + transforms.\n",
    "    dataset: DatasetConfig  # = field(default_factory=DatasetConfig)\n",
    "\n",
    "    # The model used.\n",
    "    model: Model.HParams  # = field(default_factory=Model.HParams)\n",
    "    # The network to be used.\n",
    "    network: Network.HParams  # = field(default_factory=SimpleVGG.HParams)\n",
    "\n",
    "    # Keyword arguments for the Trainer constructor.\n",
    "    trainer: Dict = field(default_factory=dict)  # type: ignore\n",
    "\n",
    "    # Configs for the callbacks.\n",
    "    callbacks: Dict = field(default_factory=dict)  # type: ignore\n",
    "\n",
    "    # Config(s) for the logger(s).\n",
    "    logger: Dict = field(default_factory=dict)  # type: ignore\n",
    "\n",
    "    # Wether to run in debug mode or not.\n",
    "    debug: bool = False\n",
    "\n",
    "    verbose: bool = False\n",
    "\n",
    "    # Random seed.\n",
    "    seed: Optional[int] = None\n",
    "\n",
    "    # Name for the experiment.\n",
    "    name: str = \"\"\n",
    "\n",
    "logger = get_logger(__name__)\n",
    "raw_options = OmegaConf.create({'dataset': {'dataset': 'cifar10', 'data_dir': '/home/ono/Dev/scalingDTP/data', 'num_workers': 12, 'shuffle': True, 'normalize': True, 'image_crop_size': 32, 'image_crop_pad': 4, 'val_split': 0.1, 'use_legacy_std': False}, 'model': {'lr_scheduler': {'interval': 'epoch', 'frequency': 1, 'T_max': 85, 'eta_min': 1e-05}, 'batch_size': 128, 'use_scheduler': True, 'feedback_training_iterations': [20, 25, 30, 35, 15], 'max_epochs': 90, 'b_optim': {'type': 'sgd', 'lr': [0.0001, 0.00035, 0.001, 0.002, 0.08], 'weight_decay': None, 'momentum': 0.9}, 'noise': [0.4, 0.4, 0.2, 0.2, 0.08], 'f_optim': {'type': 'sgd', 'lr': [0.04], 'weight_decay': 0.0001, 'momentum': 0.9}, 'beta': 0.7, 'feedback_samples_per_iteration': 1, 'early_stopping_patience': 0, 'init_symetric_weights': False, 'plot_every': 1000}, 'network': {'activation': 'elu', 'batch_size': 128, 'channels': [128, 128, 256, 256, 512], 'bias': True}, 'trainer': {'_target_': 'pytorch_lightning.Trainer', 'gpus': -1, 'strategy': 'dp', 'min_epochs': 1, 'max_epochs': 90, 'resume_from_checkpoint': None}, 'callbacks': {'model_checkpoint': {'_target_': 'pytorch_lightning.callbacks.ModelCheckpoint', 'monitor': 'val/accuracy', 'mode': 'max', 'save_top_k': 1, 'save_last': True, 'verbose': False, 'dirpath': 'checkpoints/', 'filename': 'epoch_{epoch:03d}', 'auto_insert_metric_name': False}, 'early_stopping': {'_target_': 'pytorch_lightning.callbacks.EarlyStopping', 'monitor': 'val/accuracy', 'mode': 'max', 'patience': 100, 'min_delta': 0}, 'model_summary': {'_target_': 'pytorch_lightning.callbacks.RichModelSummary', 'max_depth': 1}, 'rich_progress_bar': {'_target_': 'pytorch_lightning.callbacks.RichProgressBar'}}, 'logger': {'wandb': {'_target_': 'pytorch_lightning.loggers.wandb.WandbLogger', 'project': 'scalingDTP', 'name': '${name}', 'save_dir': '.', 'offline': False, 'id': None, 'log_model': False, 'prefix': '', 'job_type': 'train', 'group': '', 'tags': []}}, 'debug': False, 'verbose': False, 'seed': 4248715256, 'name': ''}\n",
    "                  )\n",
    "options: Options\n",
    "trainer: Trainer = field(init=False, to_dict=False)\n",
    "model: Model = field(init=False, to_dict=False)\n",
    "network: Network = field(init=False, to_dict=False)\n",
    "datamodule: VisionDataModule = field(init=False, to_dict=False)\n",
    "\n",
    "callbacks: List[Callback] = field(init=False, default_factory=list, to_dict=False)\n",
    "loggers: List[LightningLoggerBase] = field(init=False, default_factory=list, to_dict=False)\n",
    "\n",
    "trainer =Trainer = field(init=False, to_dict=False)\n",
    "model: Model = field(init=False, to_dict=False)\n",
    "network: Network = field(init=False, to_dict=False)\n",
    "datamodule: VisionDataModule = field(init=False, to_dict=False)\n",
    "\n",
    "callbacks: List[Callback] = field(init=False, default_factory=list, to_dict=False)\n",
    "loggers: List[LightningLoggerBase] = field(init=False, default_factory=list, to_dict=False)\n",
    "options = OmegaConf.to_object(raw_options)\n",
    "actual_callbacks: Dict[str, Callback] = {}\n",
    "# Create the callbacks\n",
    "assert isinstance(options['callbacks'], dict)\n",
    "for name, callback in options['callbacks'].items():\n",
    "    if isinstance(callback, dict):\n",
    "        callback = hydra.utils.instantiate(callback)\n",
    "    elif not isinstance(callback, Callback):\n",
    "        raise ValueError(f\"Invalid callback value {callback}\")\n",
    "    actual_callbacks[name] = callback\n",
    "    callbacks = list(actual_callbacks.values())\n",
    "# Create the loggers, if any.\n",
    "assert isinstance(options['logger'], dict)\n",
    "actual_loggers: Dict[str, LightningLoggerBase] = {}\n",
    "for name, lightning_logger in options['logger'].items():\n",
    "    if isinstance(lightning_logger, dict):\n",
    "        lightning_logger = hydra.utils.instantiate(lightning_logger)\n",
    "    elif not isinstance(lightning_logger, LightningLoggerBase):\n",
    "        raise ValueError(f\"Invalid logger value {lightning_logger}\")\n",
    "    actual_loggers[name] = lightning_logger\n",
    "logger = list(actual_loggers.values())\n",
    "assert isinstance(options['trainer'], dict)\n",
    "if options[\"debug\"]:\n",
    "    logger.info(f\"Setting the max_epochs to 1, since the 'debug' flag was passed.\")\n",
    "    self.options['trainer'][\"max_epochs\"] = 1\n",
    "trainer = hydra.utils.instantiate(\n",
    "    options['trainer'], callbacks=callbacks, logger=logger,\n",
    ")\n",
    "from target_prop.datasets.dataset_config import DatasetConfig\n",
    "options = OmegaConf.create(raw_options)\n",
    "dataset =DatasetConfig(options.dataset)\n",
    "\n",
    "\n"
   ]
  },
  {
   "cell_type": "code",
   "execution_count": 32,
   "metadata": {},
   "outputs": [
    {
     "data": {
      "text/plain": [
       "{'dataset': 'cifar10', 'data_dir': '/home/ono/Dev/scalingDTP/data', 'num_workers': 12, 'shuffle': True, 'normalize': True, 'image_crop_size': 32, 'image_crop_pad': 4, 'val_split': 0.1, 'use_legacy_std': False}"
      ]
     },
     "execution_count": 32,
     "metadata": {},
     "output_type": "execute_result"
    }
   ],
   "source": [
    "options.dataset"
   ]
  },
  {
   "cell_type": "code",
   "execution_count": 60,
   "metadata": {},
   "outputs": [],
   "source": [
    "datamodule = dataset.make_datamodule(batch_size=options.model.batch_size)\n"
   ]
  },
  {
   "cell_type": "code",
   "execution_count": 37,
   "metadata": {},
   "outputs": [
    {
     "data": {
      "text/plain": [
       "(3, 32, 32)"
      ]
     },
     "execution_count": 37,
     "metadata": {},
     "output_type": "execute_result"
    }
   ],
   "source": [
    "datamodule.dims"
   ]
  },
  {
   "cell_type": "code",
   "execution_count": 33,
   "metadata": {},
   "outputs": [],
   "source": [
    "# datamodule = VisionDataModule(datamodule)"
   ]
  },
  {
   "cell_type": "code",
   "execution_count": 47,
   "metadata": {},
   "outputs": [],
   "source": [
    "vd = VisionDataModule"
   ]
  },
  {
   "cell_type": "code",
   "execution_count": 58,
   "metadata": {},
   "outputs": [
    {
     "data": {
      "text/plain": [
       "Field(name=None,type=None,default=<dataclasses._MISSING_TYPE object at 0x7fbd603ff520>,default_factory=<dataclasses._MISSING_TYPE object at 0x7fbd603ff520>,init=False,repr=True,hash=None,compare=True,metadata=mappingproxy({'to_dict': False, 'cmd': True, 'positional': False}),_field_type=None)"
      ]
     },
     "execution_count": 58,
     "metadata": {},
     "output_type": "execute_result"
    }
   ],
   "source": [
    "model"
   ]
  },
  {
   "cell_type": "code",
   "execution_count": 64,
   "metadata": {},
   "outputs": [
    {
     "name": "stderr",
     "output_type": "stream",
     "text": [
      "/home/ono/.local/lib/python3.8/site-packages/torch/nn/modules/lazy.py:178: UserWarning: Lazy modules are a new feature under heavy development so changes to the API or functionality can happen at any moment.\n",
      "  warnings.warn('Lazy modules are a new feature under heavy development '\n"
     ]
    },
    {
     "ename": "TypeError",
     "evalue": "__init__() missing 1 required positional argument: 'hparams'",
     "output_type": "error",
     "traceback": [
      "\u001b[0;31m---------------------------------------------------------------------------\u001b[0m",
      "\u001b[0;31mTypeError\u001b[0m                                 Traceback (most recent call last)",
      "Input \u001b[0;32mIn [64]\u001b[0m, in \u001b[0;36m<cell line: 4>\u001b[0;34m()\u001b[0m\n\u001b[1;32m      2\u001b[0m options \u001b[38;5;241m=\u001b[39m OmegaConf\u001b[38;5;241m.\u001b[39mto_object(raw_options)\n\u001b[1;32m      3\u001b[0m \u001b[38;5;28mdict\u001b[39m(OmegaConf\u001b[38;5;241m.\u001b[39mto_object(OmegaConf\u001b[38;5;241m.\u001b[39mcreate(options[\u001b[38;5;124m'\u001b[39m\u001b[38;5;124mmodel\u001b[39m\u001b[38;5;124m'\u001b[39m])))\n\u001b[0;32m----> 4\u001b[0m model \u001b[38;5;241m=\u001b[39m \u001b[43mDTP\u001b[49m\u001b[43m(\u001b[49m\u001b[43mnetwork\u001b[49m\u001b[38;5;241;43m=\u001b[39;49m\u001b[43mnetwork\u001b[49m\u001b[43m,\u001b[49m\u001b[43mdatamodule\u001b[49m\u001b[38;5;241;43m=\u001b[39;49m\u001b[43mdatamodule\u001b[49m\u001b[43m,\u001b[49m\u001b[43mnetwork_hparams\u001b[49m\u001b[38;5;241;43m=\u001b[39;49m\u001b[43moptions\u001b[49m\u001b[43m[\u001b[49m\u001b[38;5;124;43m'\u001b[39;49m\u001b[38;5;124;43mnetwork\u001b[39;49m\u001b[38;5;124;43m'\u001b[39;49m\u001b[43m]\u001b[49m\u001b[43m,\u001b[49m\u001b[43mconfig\u001b[49m\u001b[38;5;241;43m=\u001b[39;49m\u001b[43mConfig\u001b[49m\u001b[43m(\u001b[49m\u001b[43mseed\u001b[49m\u001b[43m \u001b[49m\u001b[38;5;241;43m=\u001b[39;49m\u001b[43m \u001b[49m\u001b[43moptions\u001b[49m\u001b[43m[\u001b[49m\u001b[38;5;124;43m'\u001b[39;49m\u001b[38;5;124;43mseed\u001b[39;49m\u001b[38;5;124;43m'\u001b[39;49m\u001b[43m]\u001b[49m\u001b[43m,\u001b[49m\u001b[43mdebug\u001b[49m\u001b[38;5;241;43m=\u001b[39;49m\u001b[43moptions\u001b[49m\u001b[43m[\u001b[49m\u001b[38;5;124;43m'\u001b[39;49m\u001b[38;5;124;43mdebug\u001b[39;49m\u001b[38;5;124;43m'\u001b[39;49m\u001b[43m]\u001b[49m\u001b[43m)\u001b[49m\u001b[43m)\u001b[49m\n",
      "\u001b[0;31mTypeError\u001b[0m: __init__() missing 1 required positional argument: 'hparams'"
     ]
    }
   ],
   "source": [
    "network = ViT(in_channels = datamodule.dims[0],n_classes=datamodule.num_classes,hparams=options['network'])\n",
    "options = OmegaConf.to_object(raw_options)\n",
    "dict(OmegaConf.to_object(OmegaConf.create(options['model'])))\n",
    "model = DTP(network=network,datamodule=datamodule,hparams = DTP.hparams,network_hparams=options['network'],config=Config(seed = options['seed'],debug=options['debug']))  "
   ]
  },
  {
   "cell_type": "code",
   "execution_count": 63,
   "metadata": {},
   "outputs": [
    {
     "ename": "AttributeError",
     "evalue": "type object 'HParams' has no attribute 'b'",
     "output_type": "error",
     "traceback": [
      "\u001b[0;31m---------------------------------------------------------------------------\u001b[0m",
      "\u001b[0;31mAttributeError\u001b[0m                            Traceback (most recent call last)",
      "Input \u001b[0;32mIn [63]\u001b[0m, in \u001b[0;36m<cell line: 1>\u001b[0;34m()\u001b[0m\n\u001b[0;32m----> 1\u001b[0m \u001b[43mmodel\u001b[49m\u001b[38;5;241;43m.\u001b[39;49m\u001b[43mHParams\u001b[49m\u001b[38;5;241;43m.\u001b[39;49m\u001b[43mb\u001b[49m\n",
      "\u001b[0;31mAttributeError\u001b[0m: type object 'HParams' has no attribute 'b'"
     ]
    }
   ],
   "source": []
  },
  {
   "cell_type": "code",
   "execution_count": null,
   "metadata": {},
   "outputs": [],
   "source": [
    "# @dataclass\n",
    "# class Options(Serializable):\n",
    "#     \"\"\" All the options required for a run. This dataclass acts as a schema for the Hydra configs.\n",
    "    \n",
    "#     For more info, see https://hydra.cc/docs/tutorials/structured_config/schema/\n",
    "#     \"\"\"\n",
    "\n",
    "#     # Configuration for the dataset + transforms.\n",
    "#     dataset: DatasetConfig  # = field(default_factory=DatasetConfig)\n",
    "\n",
    "#     # The model used.\n",
    "#     model: Model.HParams  # = field(default_factory=Model.HParams)\n",
    "#     # The network to be used.\n",
    "#     network: Network.HParams  # = field(default_factory=SimpleVGG.HParams)\n",
    "\n",
    "#     # Keyword arguments for the Trainer constructor.\n",
    "#     trainer: Dict = field(default_factory=dict)  # type: ignore\n",
    "\n",
    "#     # Configs for the callbacks.\n",
    "#     callbacks: Dict = field(default_factory=dict)  # type: ignore\n",
    "\n",
    "#     # Config(s) for the logger(s).\n",
    "#     logger: Dict = field(default_factory=dict)  # type: ignore\n",
    "\n",
    "#     # Wether to run in debug mode or not.\n",
    "#     debug: bool = False\n",
    "\n",
    "#     verbose: bool = False\n",
    "\n",
    "#     # Random seed.\n",
    "#     seed: Optional[int] = None\n",
    "\n",
    "#     # Name for the experiment.\n",
    "#     name: str = \"\"\n",
    "\n",
    "\n",
    "# cs = ConfigStore.instance()\n",
    "# cs.store(name=\"base_options\", node=Options)\n",
    "\n",
    "# cs.store(group=\"model\", name=\"model\", node=Model.HParams())\n",
    "# cs.store(group=\"model\", name=\"dtp\", node=DTP.HParams())\n",
    "# cs.store(group=\"model\", name=\"parallel_dtp\", node=ParallelDTP.HParams())\n",
    "# cs.store(group=\"model\", name=\"vanilla_dtp\", node=VanillaDTP.HParams())\n",
    "# cs.store(group=\"model\", name=\"target_prop\", node=TargetProp.HParams())\n",
    "# cs.store(group=\"model\", name=\"backprop\", node=BaselineModel.HParams())\n",
    "\n",
    "# cs.store(group=\"network\", name=\"simple_vgg\", node=SimpleVGG.HParams())\n",
    "# cs.store(group=\"network\", name=\"lenet\", node=LeNet.HParams())\n",
    "# cs.store(group=\"network\", name=\"resnet18\", node=ResNet18.HParams())\n",
    "# cs.store(group=\"network\", name=\"resnet34\", node=ResNet34.HParams())\n",
    "# cs.store(group=\"network\", name=\"vit\", node=ViT.HParams())\n",
    "# cs.store(group=\"lr_scheduler\", name=\"step\", node=StepLRConfig)\n",
    "# cs.store(group=\"lr_scheduler\", name=\"cosine\", node=CosineAnnealingLRConfig)\n",
    "\n"
   ]
  },
  {
   "cell_type": "code",
   "execution_count": null,
   "metadata": {},
   "outputs": [],
   "source": []
  },
  {
   "cell_type": "code",
   "execution_count": null,
   "metadata": {},
   "outputs": [],
   "source": []
  },
  {
   "cell_type": "code",
   "execution_count": null,
   "metadata": {},
   "outputs": [],
   "source": [
    "# options = Options(VisionDataModule,DTP,ViT)"
   ]
  },
  {
   "cell_type": "code",
   "execution_count": null,
   "metadata": {},
   "outputs": [],
   "source": []
  },
  {
   "cell_type": "code",
   "execution_count": null,
   "metadata": {},
   "outputs": [],
   "source": []
  },
  {
   "cell_type": "code",
   "execution_count": null,
   "metadata": {},
   "outputs": [],
   "source": []
  },
  {
   "cell_type": "code",
   "execution_count": null,
   "metadata": {},
   "outputs": [],
   "source": []
  },
  {
   "cell_type": "code",
   "execution_count": null,
   "metadata": {},
   "outputs": [],
   "source": []
  },
  {
   "cell_type": "code",
   "execution_count": null,
   "metadata": {},
   "outputs": [],
   "source": []
  },
  {
   "cell_type": "code",
   "execution_count": null,
   "metadata": {},
   "outputs": [],
   "source": []
  },
  {
   "cell_type": "code",
   "execution_count": null,
   "metadata": {},
   "outputs": [],
   "source": []
  },
  {
   "cell_type": "code",
   "execution_count": null,
   "metadata": {},
   "outputs": [],
   "source": []
  },
  {
   "cell_type": "code",
   "execution_count": null,
   "metadata": {},
   "outputs": [],
   "source": []
  },
  {
   "cell_type": "code",
   "execution_count": null,
   "metadata": {},
   "outputs": [],
   "source": []
  },
  {
   "cell_type": "code",
   "execution_count": null,
   "metadata": {},
   "outputs": [],
   "source": []
  },
  {
   "cell_type": "code",
   "execution_count": null,
   "metadata": {},
   "outputs": [],
   "source": []
  },
  {
   "cell_type": "code",
   "execution_count": null,
   "metadata": {},
   "outputs": [],
   "source": []
  },
  {
   "cell_type": "code",
   "execution_count": null,
   "metadata": {},
   "outputs": [],
   "source": []
  },
  {
   "cell_type": "code",
   "execution_count": null,
   "metadata": {},
   "outputs": [],
   "source": []
  },
  {
   "cell_type": "code",
   "execution_count": null,
   "metadata": {},
   "outputs": [],
   "source": []
  },
  {
   "cell_type": "code",
   "execution_count": null,
   "metadata": {},
   "outputs": [],
   "source": []
  },
  {
   "cell_type": "code",
   "execution_count": null,
   "metadata": {},
   "outputs": [],
   "source": []
  },
  {
   "cell_type": "code",
   "execution_count": null,
   "metadata": {},
   "outputs": [],
   "source": []
  },
  {
   "cell_type": "code",
   "execution_count": null,
   "metadata": {},
   "outputs": [],
   "source": [
    "\n"
   ]
  },
  {
   "cell_type": "code",
   "execution_count": null,
   "metadata": {},
   "outputs": [],
   "source": []
  },
  {
   "cell_type": "code",
   "execution_count": null,
   "metadata": {},
   "outputs": [],
   "source": []
  },
  {
   "cell_type": "code",
   "execution_count": null,
   "metadata": {},
   "outputs": [],
   "source": []
  },
  {
   "cell_type": "code",
   "execution_count": null,
   "metadata": {},
   "outputs": [],
   "source": []
  },
  {
   "cell_type": "code",
   "execution_count": null,
   "metadata": {},
   "outputs": [],
   "source": []
  },
  {
   "cell_type": "code",
   "execution_count": null,
   "metadata": {},
   "outputs": [],
   "source": []
  },
  {
   "cell_type": "code",
   "execution_count": null,
   "metadata": {},
   "outputs": [],
   "source": []
  },
  {
   "cell_type": "code",
   "execution_count": null,
   "metadata": {},
   "outputs": [],
   "source": []
  },
  {
   "cell_type": "code",
   "execution_count": null,
   "metadata": {},
   "outputs": [],
   "source": []
  },
  {
   "cell_type": "code",
   "execution_count": null,
   "metadata": {},
   "outputs": [],
   "source": []
  },
  {
   "cell_type": "code",
   "execution_count": null,
   "metadata": {},
   "outputs": [],
   "source": []
  },
  {
   "cell_type": "code",
   "execution_count": null,
   "metadata": {},
   "outputs": [],
   "source": []
  },
  {
   "cell_type": "code",
   "execution_count": null,
   "metadata": {},
   "outputs": [],
   "source": []
  },
  {
   "cell_type": "code",
   "execution_count": null,
   "metadata": {},
   "outputs": [],
   "source": []
  }
 ],
 "metadata": {
  "kernelspec": {
   "display_name": "Python 3 (ipykernel)",
   "language": "python",
   "name": "python3"
  },
  "language_info": {
   "codemirror_mode": {
    "name": "ipython",
    "version": 3
   },
   "file_extension": ".py",
   "mimetype": "text/x-python",
   "name": "python",
   "nbconvert_exporter": "python",
   "pygments_lexer": "ipython3",
   "version": "3.8.13"
  }
 },
 "nbformat": 4,
 "nbformat_minor": 5
}
